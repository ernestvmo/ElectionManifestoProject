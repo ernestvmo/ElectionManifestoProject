{
 "cells": [
  {
   "cell_type": "markdown",
   "metadata": {},
   "source": [
    "# Imports"
   ]
  },
  {
   "cell_type": "code",
   "execution_count": 1,
   "metadata": {},
   "outputs": [],
   "source": [
    "import xml"
   ]
  },
  {
   "cell_type": "markdown",
   "metadata": {},
   "source": [
    "# Exploring Data"
   ]
  },
  {
   "cell_type": "code",
   "execution_count": 4,
   "metadata": {},
   "outputs": [],
   "source": [
    "year = ['1986', '1994', '1998']\n",
    "document = xml.dom.minidom.parse(f'data/Political_election_manifestos/VP_{year[0]}.party-topicnr-content.xml')\n"
   ]
  },
  {
   "cell_type": "code",
   "execution_count": 19,
   "metadata": {},
   "outputs": [],
   "source": [
    "chapter = document.firstChild.getElementsByTagName('chapter')[0]"
   ]
  },
  {
   "cell_type": "code",
   "execution_count": 26,
   "metadata": {},
   "outputs": [],
   "source": [
    "p = chapter.getElementsByTagName('p')[0]"
   ]
  },
  {
   "cell_type": "code",
   "execution_count": 66,
   "metadata": {},
   "outputs": [],
   "source": [
    "test = p.childNodes"
   ]
  },
  {
   "cell_type": "code",
   "execution_count": 68,
   "metadata": {},
   "outputs": [
    {
     "name": "stdout",
     "output_type": "stream",
     "text": [
      "None\n",
      "themes\n",
      "None\n"
     ]
    }
   ],
   "source": [
    "for t in test:\n",
    "    print(t.localName)"
   ]
  },
  {
   "cell_type": "code",
   "execution_count": 111,
   "metadata": {},
   "outputs": [
    {
     "ename": "AttributeError",
     "evalue": "'dict' object has no attribute 'add'",
     "output_type": "error",
     "traceback": [
      "\u001b[0;31m---------------------------------------------------------------------------\u001b[0m",
      "\u001b[0;31mAttributeError\u001b[0m                            Traceback (most recent call last)",
      "\u001b[0;32m/var/folders/w5/5wf6r0p14r38dgytvnyprf9r0000gn/T/ipykernel_1722/2500827771.py\u001b[0m in \u001b[0;36m<module>\u001b[0;34m\u001b[0m\n\u001b[1;32m      1\u001b[0m \u001b[0mtest\u001b[0m \u001b[0;34m=\u001b[0m \u001b[0;34m{\u001b[0m\u001b[0;34m}\u001b[0m\u001b[0;34m\u001b[0m\u001b[0;34m\u001b[0m\u001b[0m\n\u001b[1;32m      2\u001b[0m \u001b[0mtest\u001b[0m\u001b[0;34m[\u001b[0m\u001b[0;36m0\u001b[0m\u001b[0;34m]\u001b[0m \u001b[0;34m=\u001b[0m \u001b[0;34m{\u001b[0m\u001b[0;34m'text'\u001b[0m\u001b[0;34m:\u001b[0m\u001b[0;34m'blabla'\u001b[0m\u001b[0;34m,\u001b[0m \u001b[0;34m'themes'\u001b[0m\u001b[0;34m:\u001b[0m\u001b[0;34m[\u001b[0m\u001b[0;34m'here'\u001b[0m\u001b[0;34m,\u001b[0m \u001b[0;34m'here'\u001b[0m\u001b[0;34m]\u001b[0m\u001b[0;34m}\u001b[0m\u001b[0;34m\u001b[0m\u001b[0;34m\u001b[0m\u001b[0m\n\u001b[0;32m----> 3\u001b[0;31m \u001b[0mtest\u001b[0m\u001b[0;34m.\u001b[0m\u001b[0madd\u001b[0m\u001b[0;34m(\u001b[0m\u001b[0;36m1\u001b[0m\u001b[0;34m)\u001b[0m\u001b[0;34m\u001b[0m\u001b[0;34m\u001b[0m\u001b[0m\n\u001b[0m\u001b[1;32m      4\u001b[0m \u001b[0;31m# test[1] = 1\u001b[0m\u001b[0;34m\u001b[0m\u001b[0;34m\u001b[0m\u001b[0;34m\u001b[0m\u001b[0m\n\u001b[1;32m      5\u001b[0m \u001b[0;31m# test[1]['text'] = 'bliblib'\u001b[0m\u001b[0;34m\u001b[0m\u001b[0;34m\u001b[0m\u001b[0;34m\u001b[0m\u001b[0m\n",
      "\u001b[0;31mAttributeError\u001b[0m: 'dict' object has no attribute 'add'"
     ]
    }
   ],
   "source": [
    "test = {}\n",
    "test[0] = {'text':'blabla', 'themes':['here', 'here']}\n",
    "\n",
    "# test[1] = 1\n",
    "# test[1]['text'] = 'bliblib'\n",
    "# test[1]['themes'] = ['there', 'there']\n",
    "print(test)"
   ]
  },
  {
   "cell_type": "code",
   "execution_count": 131,
   "metadata": {},
   "outputs": [],
   "source": [
    "chapters = {}\n",
    "for chapter in document.firstChild.getElementsByTagName('chapter'):\n",
    "    party = chapter.getAttribute('party')\n",
    "    # print(chapter.getAttribute('party'))\n",
    "    par = {}\n",
    "    for paragraph in chapter.getElementsByTagName('p'):\n",
    "        id = paragraph.getAttribute('id')\n",
    "        # print(paragraph.getAttribute('id'))\n",
    "        \n",
    "        paragraph_value = paragraph.childNodes[2].nodeValue.strip()\n",
    "        # print(paragraph_value)\n",
    "\n",
    "        paragraph_themes = [theme.getAttribute('id') for theme in paragraph.getElementsByTagName('theme')]\n",
    "        # print(paragraph_themes)\n",
    "\n",
    "        par[id] = {'p': paragraph_value, 'themes': paragraph_themes}\n",
    "    chapters[party] = par"
   ]
  },
  {
   "cell_type": "code",
   "execution_count": 134,
   "metadata": {},
   "outputs": [
    {
     "name": "stdout",
     "output_type": "stream",
     "text": [
      "nl.p.cda\n",
      "nl.p.cpn\n",
      "nl.p.d66\n",
      "nl.p.evp\n",
      "nl.p.gpv\n",
      "nl.p.ppr\n",
      "nl.p.psp\n",
      "nl.p.pvda\n",
      "nl.p.rpf\n",
      "nl.p.sgp\n",
      "nl.p.vvd\n"
     ]
    }
   ],
   "source": [
    "for key in chapters.keys():\n",
    "    print(key)"
   ]
  },
  {
   "cell_type": "code",
   "execution_count": null,
   "metadata": {},
   "outputs": [],
   "source": []
  }
 ],
 "metadata": {
  "interpreter": {
   "hash": "aee8b7b246df8f9039afb4144a1f6fd8d2ca17a180786b69acc140d282b71a49"
  },
  "kernelspec": {
   "display_name": "Python 3.9.4 64-bit",
   "language": "python",
   "name": "python3"
  },
  "language_info": {
   "codemirror_mode": {
    "name": "ipython",
    "version": 3
   },
   "file_extension": ".py",
   "mimetype": "text/x-python",
   "name": "python",
   "nbconvert_exporter": "python",
   "pygments_lexer": "ipython3",
   "version": "3.9.4"
  },
  "orig_nbformat": 4
 },
 "nbformat": 4,
 "nbformat_minor": 2
}
