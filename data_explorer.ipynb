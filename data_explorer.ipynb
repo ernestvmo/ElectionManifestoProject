{
 "cells": [
  {
   "cell_type": "markdown",
   "metadata": {},
   "source": [
    "# Imports"
   ]
  },
  {
   "cell_type": "code",
   "execution_count": 1,
   "metadata": {},
   "outputs": [],
   "source": [
    "import xml\n",
    "import xml.etree.ElementTree as ET\n",
    "\n",
    "import string\n",
    "import unidecode\n",
    "import re\n",
    "\n",
    "import spacy\n",
    "from spacy.lang.nl.stop_words import STOP_WORDS\n",
    "\n",
    "from sklearn.preprocessing import MultiLabelBinarizer\n",
    "\n",
    "from sklearn.feature_extraction.text import TfidfVectorizer\n",
    "\n",
    "from sklearn.naive_bayes import MultinomialNB\n",
    "from sklearn.tree import DecisionTreeClassifier\n",
    "from sklearn.ensemble import ExtraTreesClassifier, RandomForestClassifier\n",
    "from sklearn.neighbors import KNeighborsClassifier\n",
    "from sklearn.neural_network import MLPClassifier\n",
    "\n",
    "from sklearn.model_selection import train_test_split\n",
    "\n",
    "from sklearn.metrics import precision_score, recall_score, f1_score, hamming_loss\n",
    "\n",
    "from skmultilearn.problem_transform import BinaryRelevance, ClassifierChain, LabelPowerset"
   ]
  },
  {
   "cell_type": "code",
   "execution_count": 2,
   "metadata": {},
   "outputs": [],
   "source": [
    "nlp = spacy.load('nl_core_news_lg')\n",
    "stops_words = STOP_WORDS"
   ]
  },
  {
   "cell_type": "markdown",
   "metadata": {},
   "source": [
    "## Exploring Data"
   ]
  },
  {
   "cell_type": "markdown",
   "metadata": {},
   "source": [
    "#### Extracting Text Data"
   ]
  },
  {
   "cell_type": "code",
   "execution_count": 60,
   "metadata": {},
   "outputs": [],
   "source": [
    "document = xml.dom.minidom.parse('data/Political_election_manifestos/VP_1986.party-topicnr-content.xml')"
   ]
  },
  {
   "cell_type": "code",
   "execution_count": 61,
   "metadata": {},
   "outputs": [],
   "source": [
    "def apply_text_preprocessing(text: str):\n",
    "    # Strip + Lower case\n",
    "    text = text.strip().lower()\n",
    "    # Remove digits\n",
    "    text = unidecode.unidecode(text)\n",
    "    # Remove Punctuation\n",
    "    text = re.sub('[%s]' % re.escape(string.punctuation), '', text)\n",
    "    #  Remove stop words and Lemmatisation\n",
    "    text = ' '.join([token.lemma_ for token in nlp(text) if token.is_stop == False and token.text != ' '])\n",
    "\n",
    "    return text"
   ]
  },
  {
   "cell_type": "code",
   "execution_count": 62,
   "metadata": {},
   "outputs": [],
   "source": [
    "def create_dictionary(xml_document):\n",
    "    chapters = {}\n",
    "    for chapter in document.firstChild.getElementsByTagName('chapter'):\n",
    "        party = chapter.getAttribute('party')\n",
    "        # print(chapter.getAttribute('party'))\n",
    "        par = {}\n",
    "        for paragraph in chapter.getElementsByTagName('p'):\n",
    "            id = paragraph.getAttribute('id')\n",
    "            # print(paragraph.getAttribute('id'))\n",
    "            \n",
    "            paragraph_value = paragraph.childNodes[2].nodeValue\n",
    "            paragraph_value = apply_text_preprocessing(paragraph_value)\n",
    "            # print(paragraph_value)\n",
    "\n",
    "            paragraph_themes = [theme.getAttribute('id').lower() for theme in paragraph.getElementsByTagName('theme')]\n",
    "            # print(paragraph_themes)\n",
    "\n",
    "            par[id] = {'p': paragraph_value, 'themes': paragraph_themes}\n",
    "        chapters[party] = par\n",
    "    return chapters"
   ]
  },
  {
   "cell_type": "code",
   "execution_count": 63,
   "metadata": {},
   "outputs": [],
   "source": [
    "def create_X_y(chapters: dict):\n",
    "    X, y = [], []\n",
    "    for chapter in chapters.keys():\n",
    "        for text in chapters[chapter].keys():\n",
    "            # if chapters[chapter][text]['p'] != '':\n",
    "            X.append(chapters[chapter][text]['p']) \n",
    "            y.append(chapters[chapter][text]['themes'])\n",
    "    return X, y"
   ]
  },
  {
   "cell_type": "code",
   "execution_count": 64,
   "metadata": {},
   "outputs": [],
   "source": [
    "X, y = create_X_y(create_dictionary(document))"
   ]
  },
  {
   "cell_type": "markdown",
   "metadata": {},
   "source": [
    "#### Extracting All Themes"
   ]
  },
  {
   "cell_type": "code",
   "execution_count": 65,
   "metadata": {},
   "outputs": [],
   "source": [
    "# taxonomy_xml = ET.parse(f'data/Political_election_manifestos/taxonomy.1986.xml')\n",
    "taxonomy_xml = xml.dom.minidom.parse(f'data/Political_election_manifestos/taxonomy.1986.xml')"
   ]
  },
  {
   "cell_type": "code",
   "execution_count": 66,
   "metadata": {},
   "outputs": [],
   "source": [
    "def extract_themes(xml_document, y_labels: list):\n",
    "    themes_set = set()\n",
    "    for theme in xml_document.getElementsByTagName('theme'):\n",
    "        themes_set.add(theme.getAttribute('id').lower())\n",
    "\n",
    "    for theme in y_labels:\n",
    "        for elem in theme:\n",
    "            themes_set.add(elem)\n",
    "\n",
    "    return themes_set"
   ]
  },
  {
   "cell_type": "code",
   "execution_count": 67,
   "metadata": {},
   "outputs": [],
   "source": [
    "themes_set = extract_themes(taxonomy_xml, y)"
   ]
  },
  {
   "cell_type": "markdown",
   "metadata": {},
   "source": [
    "### Label Binarizer"
   ]
  },
  {
   "cell_type": "code",
   "execution_count": 68,
   "metadata": {},
   "outputs": [],
   "source": [
    "multilabel_bin = MultiLabelBinarizer()\n",
    "multilabel_bin.fit_transform([themes_set])\n",
    "y_bin = multilabel_bin.transform(y)"
   ]
  },
  {
   "cell_type": "markdown",
   "metadata": {},
   "source": [
    "### TF_IDF"
   ]
  },
  {
   "cell_type": "code",
   "execution_count": 69,
   "metadata": {},
   "outputs": [],
   "source": [
    "# play around with n_gram and max_features\n",
    "vectorizer = TfidfVectorizer(strip_accents='unicode', analyzer='word', ngram_range=(1,3), norm='l2', max_features = 10000)\n",
    "\n",
    "X_tfidf = vectorizer.fit_transform(X)"
   ]
  },
  {
   "cell_type": "markdown",
   "metadata": {},
   "source": [
    "# Models"
   ]
  },
  {
   "cell_type": "markdown",
   "metadata": {},
   "source": [
    "### Train-Test Split"
   ]
  },
  {
   "cell_type": "code",
   "execution_count": 70,
   "metadata": {},
   "outputs": [],
   "source": [
    "X_train, X_test, y_train, y_test = train_test_split(X_tfidf, y_bin, test_size=0.33, random_state=42)"
   ]
  },
  {
   "cell_type": "markdown",
   "metadata": {},
   "source": [
    "## BinaryRelevance"
   ]
  },
  {
   "cell_type": "code",
   "execution_count": 71,
   "metadata": {},
   "outputs": [],
   "source": [
    "def binary_relevance(model, X_train, y_train, X_test, y_test):\n",
    "    bn_model = BinaryRelevance(model)\n",
    "    bn_model.fit(X_train, y_train)\n",
    "    preds = bn_model.predict(X_test)\n",
    "    print('Precision score:', precision_score(y_test, preds, average='micro'))\n",
    "    print('Recall score:', recall_score(y_test, preds, average='micro'))\n",
    "    print('F1 score:', f1_score(y_test, preds, average='micro'))\n",
    "    print('Hamming distance:', hamming_loss(y_test, preds))"
   ]
  },
  {
   "cell_type": "markdown",
   "metadata": {},
   "source": [
    "#### MultinomialNB"
   ]
  },
  {
   "cell_type": "code",
   "execution_count": 72,
   "metadata": {},
   "outputs": [
    {
     "name": "stdout",
     "output_type": "stream",
     "text": [
      "Precision score: 0.8106508875739645\n",
      "Recall score: 0.04928057553956835\n",
      "F1 score: 0.0929128518141743\n",
      "Hamming distance: 0.0433016058016058\n"
     ]
    }
   ],
   "source": [
    "binary_relevance(MultinomialNB(), X_train, y_train, X_test, y_test)"
   ]
  },
  {
   "cell_type": "markdown",
   "metadata": {},
   "source": [
    "#### DecisionTreeClassifier"
   ]
  },
  {
   "cell_type": "code",
   "execution_count": 18,
   "metadata": {},
   "outputs": [
    {
     "name": "stdout",
     "output_type": "stream",
     "text": [
      "Precision score: 0.5929961089494163\n",
      "Recall score: 0.5482014388489208\n",
      "F1 score: 0.5697196261682242\n",
      "Hamming distance: 0.03726366226366226\n"
     ]
    }
   ],
   "source": [
    "binary_relevance(DecisionTreeClassifier(), X_train, y_train, X_test, y_test)"
   ]
  },
  {
   "cell_type": "markdown",
   "metadata": {},
   "source": [
    "#### ExtraTreesClassifier"
   ]
  },
  {
   "cell_type": "code",
   "execution_count": 19,
   "metadata": {},
   "outputs": [
    {
     "name": "stdout",
     "output_type": "stream",
     "text": [
      "Precision score: 0.8558692421991084\n",
      "Recall score: 0.20719424460431654\n",
      "F1 score: 0.33362293657688963\n",
      "Hamming distance: 0.037247474747474744\n"
     ]
    }
   ],
   "source": [
    "binary_relevance(ExtraTreesClassifier(), X_train, y_train, X_test, y_test)"
   ]
  },
  {
   "cell_type": "markdown",
   "metadata": {},
   "source": [
    "#### RandomForestClassifier"
   ]
  },
  {
   "cell_type": "code",
   "execution_count": 20,
   "metadata": {},
   "outputs": [
    {
     "name": "stdout",
     "output_type": "stream",
     "text": [
      "Precision score: 0.9011627906976745\n",
      "Recall score: 0.1672661870503597\n",
      "F1 score: 0.28216019417475724\n",
      "Hamming distance: 0.0382996632996633\n"
     ]
    }
   ],
   "source": [
    "binary_relevance(RandomForestClassifier(), X_train, y_train, X_test, y_test)"
   ]
  },
  {
   "cell_type": "markdown",
   "metadata": {},
   "source": [
    "#### KNeighborsClassifier"
   ]
  },
  {
   "cell_type": "code",
   "execution_count": 21,
   "metadata": {},
   "outputs": [
    {
     "name": "stdout",
     "output_type": "stream",
     "text": [
      "Precision score: 0.6\n",
      "Recall score: 0.002158273381294964\n",
      "F1 score: 0.004301075268817205\n",
      "Hamming distance: 0.04496891996891997\n"
     ]
    }
   ],
   "source": [
    "binary_relevance(KNeighborsClassifier(), X_train, y_train, X_test, y_test)"
   ]
  },
  {
   "cell_type": "markdown",
   "metadata": {},
   "source": [
    "#### MLPClassifier"
   ]
  },
  {
   "cell_type": "code",
   "execution_count": 32,
   "metadata": {},
   "outputs": [
    {
     "name": "stdout",
     "output_type": "stream",
     "text": [
      "Precision score: 0.7338877338877339\n",
      "Recall score: 0.2539568345323741\n",
      "F1 score: 0.37733832175307325\n",
      "Hamming distance: 0.037716912716912715\n"
     ]
    }
   ],
   "source": [
    "binary_relevance(MLPClassifier(hidden_layer_sizes=(50,)), X_train, y_train, X_test, y_test)"
   ]
  },
  {
   "cell_type": "markdown",
   "metadata": {},
   "source": [
    "## Classifier Chaining"
   ]
  },
  {
   "cell_type": "code",
   "execution_count": 16,
   "metadata": {},
   "outputs": [],
   "source": [
    "def classifier_chaining(model, X_train, y_train, X_test, y_test):\n",
    "    cc_model = ClassifierChain(model)\n",
    "    cc_model.fit(X_train, y_train)\n",
    "    preds = cc_model.predict(X_test)\n",
    "    print('Precision score:', precision_score(y_test, preds, average='micro'))\n",
    "    print('Recall score:', recall_score(y_test, preds, average='micro'))\n",
    "    print('F1 score:', f1_score(y_test, preds, average='micro'))\n",
    "    print('Hamming distance:', hamming_loss(y_test, preds))"
   ]
  },
  {
   "cell_type": "markdown",
   "metadata": {},
   "source": [
    "#### MultinomialNB"
   ]
  },
  {
   "cell_type": "code",
   "execution_count": 17,
   "metadata": {},
   "outputs": [
    {
     "name": "stdout",
     "output_type": "stream",
     "text": [
      "Precision score: 0.875\n",
      "Recall score: 0.05539568345323741\n",
      "F1 score: 0.10419485791610283\n",
      "Hamming distance: 0.042864542864542866\n"
     ]
    }
   ],
   "source": [
    "classifier_chaining(MultinomialNB(), X_train, y_train, X_test, y_test)"
   ]
  },
  {
   "cell_type": "markdown",
   "metadata": {},
   "source": [
    "#### DecisionTreeClassifier"
   ]
  },
  {
   "cell_type": "code",
   "execution_count": 18,
   "metadata": {},
   "outputs": [
    {
     "name": "stdout",
     "output_type": "stream",
     "text": [
      "Precision score: 0.5770810003732736\n",
      "Recall score: 0.556115107913669\n",
      "F1 score: 0.5664041033156255\n",
      "Hamming distance: 0.038315850815850816\n"
     ]
    }
   ],
   "source": [
    "classifier_chaining(DecisionTreeClassifier(), X_train, y_train, X_test, y_test)"
   ]
  },
  {
   "cell_type": "markdown",
   "metadata": {},
   "source": [
    "#### ExtraTreesClassifier"
   ]
  },
  {
   "cell_type": "code",
   "execution_count": 19,
   "metadata": {},
   "outputs": [
    {
     "name": "stdout",
     "output_type": "stream",
     "text": [
      "Precision score: 0.8615384615384616\n",
      "Recall score: 0.16115107913669063\n",
      "F1 score: 0.27151515151515154\n",
      "Hamming distance: 0.03891478891478892\n"
     ]
    }
   ],
   "source": [
    "classifier_chaining(ExtraTreesClassifier(), X_train, y_train, X_test, y_test)"
   ]
  },
  {
   "cell_type": "markdown",
   "metadata": {},
   "source": [
    "#### RandomForestClassifier"
   ]
  },
  {
   "cell_type": "code",
   "execution_count": 20,
   "metadata": {},
   "outputs": [
    {
     "name": "stdout",
     "output_type": "stream",
     "text": [
      "Precision score: 0.8930232558139535\n",
      "Recall score: 0.1381294964028777\n",
      "F1 score: 0.23925233644859814\n",
      "Hamming distance: 0.03952991452991453\n"
     ]
    }
   ],
   "source": [
    "classifier_chaining(RandomForestClassifier(), X_train, y_train, X_test, y_test)"
   ]
  },
  {
   "cell_type": "markdown",
   "metadata": {},
   "source": [
    "#### KNeighborsClassifier"
   ]
  },
  {
   "cell_type": "code",
   "execution_count": 21,
   "metadata": {},
   "outputs": [
    {
     "name": "stdout",
     "output_type": "stream",
     "text": [
      "Precision score: 0.2959770114942529\n",
      "Recall score: 0.03705035971223022\n",
      "F1 score: 0.06585677749360615\n",
      "Hamming distance: 0.047299922299922297\n"
     ]
    }
   ],
   "source": [
    "classifier_chaining(KNeighborsClassifier(), X_train, y_train, X_test, y_test)"
   ]
  },
  {
   "cell_type": "markdown",
   "metadata": {},
   "source": [
    "#### MLPClassifier"
   ]
  },
  {
   "cell_type": "code",
   "execution_count": 29,
   "metadata": {},
   "outputs": [
    {
     "name": "stdout",
     "output_type": "stream",
     "text": [
      "Precision score: 0.7320061255742726\n",
      "Recall score: 0.17194244604316547\n",
      "F1 score: 0.27847363821730264\n",
      "Hamming distance: 0.040096477596477595\n"
     ]
    }
   ],
   "source": [
    "classifier_chaining(MLPClassifier(hidden_layer_sizes=(50,)), X_train, y_train, X_test, y_test)"
   ]
  },
  {
   "cell_type": "markdown",
   "metadata": {},
   "source": [
    "## Label Powerset"
   ]
  },
  {
   "cell_type": "code",
   "execution_count": 22,
   "metadata": {},
   "outputs": [],
   "source": [
    "def label_powerset(model, X_train, y_train, X_test, y_test):\n",
    "    cc_model = LabelPowerset(model)\n",
    "    cc_model.fit(X_train, y_train)\n",
    "    preds = cc_model.predict(X_test)\n",
    "    print('Precision score:', precision_score(y_test, preds, average='micro'))\n",
    "    print('Recall score:', recall_score(y_test, preds, average='micro'))\n",
    "    print('F1 score:', f1_score(y_test, preds, average='micro'))\n",
    "    print('Hamming distance:', hamming_loss(y_test, preds))"
   ]
  },
  {
   "cell_type": "markdown",
   "metadata": {},
   "source": [
    "#### MultinomialNB"
   ]
  },
  {
   "cell_type": "code",
   "execution_count": 23,
   "metadata": {},
   "outputs": [
    {
     "name": "stdout",
     "output_type": "stream",
     "text": [
      "Precision score: 0.2971014492753623\n",
      "Recall score: 0.029496402877697843\n",
      "F1 score: 0.05366492146596859\n",
      "Hamming distance: 0.046814296814296816\n"
     ]
    }
   ],
   "source": [
    "label_powerset(MultinomialNB(), X_train, y_train, X_test, y_test)"
   ]
  },
  {
   "cell_type": "markdown",
   "metadata": {},
   "source": [
    "#### DecisionTreeClassifier"
   ]
  },
  {
   "cell_type": "code",
   "execution_count": 24,
   "metadata": {},
   "outputs": [
    {
     "name": "stdout",
     "output_type": "stream",
     "text": [
      "Precision score: 0.24855491329479767\n",
      "Recall score: 0.1856115107913669\n",
      "F1 score: 0.21252059308072485\n",
      "Hamming distance: 0.0619010619010619\n"
     ]
    }
   ],
   "source": [
    "label_powerset(DecisionTreeClassifier(), X_train, y_train, X_test, y_test)"
   ]
  },
  {
   "cell_type": "markdown",
   "metadata": {},
   "source": [
    "#### ExtraTreesClassifier"
   ]
  },
  {
   "cell_type": "code",
   "execution_count": 25,
   "metadata": {},
   "outputs": [
    {
     "name": "stdout",
     "output_type": "stream",
     "text": [
      "Precision score: 0.37398879900435594\n",
      "Recall score: 0.21618705035971222\n",
      "F1 score: 0.27399133804422154\n",
      "Hamming distance: 0.05155723905723906\n"
     ]
    }
   ],
   "source": [
    "label_powerset(ExtraTreesClassifier(), X_train, y_train, X_test, y_test)"
   ]
  },
  {
   "cell_type": "markdown",
   "metadata": {},
   "source": [
    "#### RandomForestClassifier"
   ]
  },
  {
   "cell_type": "code",
   "execution_count": 26,
   "metadata": {},
   "outputs": [
    {
     "name": "stdout",
     "output_type": "stream",
     "text": [
      "Precision score: 0.40870724122612173\n",
      "Recall score: 0.33093525179856115\n",
      "F1 score: 0.3657324587557146\n",
      "Hamming distance: 0.051654364154364155\n"
     ]
    }
   ],
   "source": [
    "label_powerset(RandomForestClassifier(), X_train, y_train, X_test, y_test)"
   ]
  },
  {
   "cell_type": "markdown",
   "metadata": {},
   "source": [
    "#### KNeighborsClassifier"
   ]
  },
  {
   "cell_type": "code",
   "execution_count": 27,
   "metadata": {},
   "outputs": [
    {
     "name": "stdout",
     "output_type": "stream",
     "text": [
      "Precision score: 0.15272727272727274\n",
      "Recall score: 0.015107913669064749\n",
      "F1 score: 0.02749590834697218\n",
      "Hamming distance: 0.04809311059311059\n"
     ]
    }
   ],
   "source": [
    "label_powerset(KNeighborsClassifier(), X_train, y_train, X_test, y_test)"
   ]
  },
  {
   "cell_type": "markdown",
   "metadata": {},
   "source": [
    "#### MLPClassifier"
   ]
  },
  {
   "cell_type": "code",
   "execution_count": 28,
   "metadata": {},
   "outputs": [
    {
     "name": "stdout",
     "output_type": "stream",
     "text": [
      "Precision score: 0.35537190082644626\n",
      "Recall score: 0.07733812949640288\n",
      "F1 score: 0.12703101920236337\n",
      "Hamming distance: 0.047834110334110336\n"
     ]
    },
    {
     "name": "stderr",
     "output_type": "stream",
     "text": [
      "C:\\Users\\Ernest\\AppData\\Local\\Programs\\Python\\Python310\\lib\\site-packages\\sklearn\\neural_network\\_multilayer_perceptron.py:692: ConvergenceWarning: Stochastic Optimizer: Maximum iterations (200) reached and the optimization hasn't converged yet.\n",
      "  warnings.warn(\n"
     ]
    }
   ],
   "source": [
    "label_powerset(MLPClassifier(), X_train, y_train, X_test, y_test)"
   ]
  },
  {
   "cell_type": "markdown",
   "metadata": {},
   "source": [
    "## Testing the other manifestos"
   ]
  },
  {
   "cell_type": "markdown",
   "metadata": {},
   "source": [
    "### 1994"
   ]
  },
  {
   "cell_type": "code",
   "execution_count": 77,
   "metadata": {},
   "outputs": [],
   "source": [
    "document_94 = xml.dom.minidom.parse('data/Political_election_manifestos/VP_1994.party-topicnr-content.xml')\n",
    "X_94, y_94 = create_X_y(create_dictionary(document_94))\n",
    "taxonomy_94 = xml.dom.minidom.parse('data/Political_election_manifestos/taxonomy.1994.xml')\n",
    "themes_set_94 = extract_themes(taxonomy_94, y_94)"
   ]
  },
  {
   "cell_type": "code",
   "execution_count": 78,
   "metadata": {},
   "outputs": [],
   "source": [
    "multilabel_bin = MultiLabelBinarizer()\n",
    "multilabel_bin.fit_transform([themes_set_94])\n",
    "y_94 = multilabel_bin.transform(y_94)"
   ]
  },
  {
   "cell_type": "code",
   "execution_count": 79,
   "metadata": {},
   "outputs": [],
   "source": [
    "X_94 = TfidfVectorizer(strip_accents='unicode', analyzer='word', ngram_range=(1,3), norm='l2', max_features = 10000).fit_transform(X_94)"
   ]
  },
  {
   "cell_type": "code",
   "execution_count": 80,
   "metadata": {},
   "outputs": [],
   "source": [
    "X_train_94, X_test_94, y_train_94, y_test_94 = train_test_split(X_94, y_94, test_size=0.33, random_state=42)"
   ]
  },
  {
   "cell_type": "code",
   "execution_count": 81,
   "metadata": {},
   "outputs": [
    {
     "name": "stdout",
     "output_type": "stream",
     "text": [
      "Precision score: 0.5945098039215686\n",
      "Recall score: 0.5453237410071943\n",
      "F1 score: 0.5688555347091933\n",
      "Hamming distance: 0.023589554077358955\n"
     ]
    }
   ],
   "source": [
    "binary_relevance(DecisionTreeClassifier(), X_train_94, y_train_94, X_test_94, y_test_94)"
   ]
  },
  {
   "cell_type": "code",
   "execution_count": 82,
   "metadata": {},
   "outputs": [
    {
     "name": "stdout",
     "output_type": "stream",
     "text": [
      "Precision score: 0.5652332361516035\n",
      "Recall score: 0.5579136690647482\n",
      "F1 score: 0.561549601737871\n",
      "Hamming distance: 0.02486244559415291\n"
     ]
    }
   ],
   "source": [
    "classifier_chaining(DecisionTreeClassifier(), X_train_94, y_train_94, X_test_94, y_test_94)"
   ]
  },
  {
   "cell_type": "code",
   "execution_count": 91,
   "metadata": {},
   "outputs": [
    {
     "name": "stdout",
     "output_type": "stream",
     "text": [
      "Precision score: 0.8862275449101796\n",
      "Recall score: 0.15971223021582734\n",
      "F1 score: 0.2706491923194148\n",
      "Hamming distance: 0.02456475322328981\n"
     ]
    }
   ],
   "source": [
    "binary_relevance(RandomForestClassifier(), X_train_94, y_train_94, X_test_94, y_test_94)"
   ]
  },
  {
   "cell_type": "code",
   "execution_count": 92,
   "metadata": {},
   "outputs": [
    {
     "name": "stdout",
     "output_type": "stream",
     "text": [
      "Precision score: 0.9\n",
      "Recall score: 0.13597122302158274\n",
      "F1 score: 0.23625000000000002\n",
      "Hamming distance: 0.02508828118584216\n"
     ]
    }
   ],
   "source": [
    "classifier_chaining(RandomForestClassifier(), X_train_94, y_train_94, X_test_94, y_test_94)"
   ]
  },
  {
   "cell_type": "markdown",
   "metadata": {},
   "source": [
    "### 1998"
   ]
  },
  {
   "cell_type": "code",
   "execution_count": 85,
   "metadata": {},
   "outputs": [],
   "source": [
    "document_98 = xml.dom.minidom.parse('data/Political_election_manifestos/VP_1998.party-topicnr-content.xml')\n",
    "X_98, y_98 = create_X_y(create_dictionary(document_98))\n",
    "taxonomy_98 = xml.dom.minidom.parse('data/Political_election_manifestos/taxonomy.1998.xml')\n",
    "themes_set_98 = extract_themes(taxonomy_98, y_98)"
   ]
  },
  {
   "cell_type": "code",
   "execution_count": 86,
   "metadata": {},
   "outputs": [],
   "source": [
    "multilabel_bin = MultiLabelBinarizer()\n",
    "multilabel_bin.fit_transform([themes_set_98])\n",
    "y_98 = multilabel_bin.transform(y_98)"
   ]
  },
  {
   "cell_type": "code",
   "execution_count": 87,
   "metadata": {},
   "outputs": [],
   "source": [
    "X_98 = TfidfVectorizer(strip_accents='unicode', analyzer='word', ngram_range=(1,3), norm='l2', max_features = 10000).fit_transform(X_98)"
   ]
  },
  {
   "cell_type": "code",
   "execution_count": 88,
   "metadata": {},
   "outputs": [],
   "source": [
    "X_train_98, X_test_98, y_train_98, y_test_98 = train_test_split(X_98, y_98, test_size=0.33, random_state=42)"
   ]
  },
  {
   "cell_type": "code",
   "execution_count": 89,
   "metadata": {},
   "outputs": [
    {
     "name": "stdout",
     "output_type": "stream",
     "text": [
      "Precision score: 0.6054097056483692\n",
      "Recall score: 0.5474820143884892\n",
      "F1 score: 0.5749905553456742\n",
      "Hamming distance: 0.0219093246085534\n"
     ]
    }
   ],
   "source": [
    "binary_relevance(DecisionTreeClassifier(), X_train_98, y_train_98, X_test_98, y_test_98)"
   ]
  },
  {
   "cell_type": "code",
   "execution_count": 90,
   "metadata": {},
   "outputs": [
    {
     "name": "stdout",
     "output_type": "stream",
     "text": [
      "Precision score: 0.5657414170927685\n",
      "Recall score: 0.5571942446043165\n",
      "F1 score: 0.5614353026458861\n",
      "Hamming distance: 0.02356469580119966\n"
     ]
    }
   ],
   "source": [
    "classifier_chaining(DecisionTreeClassifier(), X_train_98, y_train_98, X_test_98, y_test_98)"
   ]
  },
  {
   "cell_type": "code",
   "execution_count": 93,
   "metadata": {},
   "outputs": [
    {
     "name": "stdout",
     "output_type": "stream",
     "text": [
      "Precision score: 0.8794466403162056\n",
      "Recall score: 0.16007194244604317\n",
      "F1 score: 0.27084601339014\n",
      "Hamming distance: 0.023330996338708422\n"
     ]
    }
   ],
   "source": [
    "binary_relevance(RandomForestClassifier(), X_train_98, y_train_98, X_test_98, y_test_98)"
   ]
  },
  {
   "cell_type": "code",
   "execution_count": 94,
   "metadata": {},
   "outputs": [
    {
     "name": "stdout",
     "output_type": "stream",
     "text": [
      "Precision score: 0.8947368421052632\n",
      "Recall score: 0.14064748201438848\n",
      "F1 score: 0.24308361827789865\n",
      "Hamming distance: 0.02371075796525668\n"
     ]
    }
   ],
   "source": [
    "classifier_chaining(RandomForestClassifier(), X_train_98, y_train_98, X_test_98, y_test_98)"
   ]
  }
 ],
 "metadata": {
  "interpreter": {
   "hash": "aee8b7b246df8f9039afb4144a1f6fd8d2ca17a180786b69acc140d282b71a49"
  },
  "kernelspec": {
   "display_name": "Python 3.9.4 64-bit",
   "language": "python",
   "name": "python3"
  },
  "language_info": {
   "codemirror_mode": {
    "name": "ipython",
    "version": 3
   },
   "file_extension": ".py",
   "mimetype": "text/x-python",
   "name": "python",
   "nbconvert_exporter": "python",
   "pygments_lexer": "ipython3",
   "version": "3.10.0"
  },
  "orig_nbformat": 4
 },
 "nbformat": 4,
 "nbformat_minor": 2
}
