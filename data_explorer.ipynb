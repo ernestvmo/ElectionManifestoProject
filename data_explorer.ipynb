{
 "cells": [
  {
   "cell_type": "markdown",
   "metadata": {},
   "source": [
    "# Imports"
   ]
  },
  {
   "cell_type": "code",
   "execution_count": 432,
   "metadata": {},
   "outputs": [],
   "source": [
    "import xml\n",
    "import xml.etree.ElementTree as ET\n",
    "\n",
    "import string\n",
    "import unidecode\n",
    "import re\n",
    "\n",
    "import spacy\n",
    "from spacy.lang.nl.stop_words import STOP_WORDS\n",
    "\n",
    "from sklearn.feature_extraction.text import TfidfVectorizer\n",
    "from sklearn.model_selection import train_test_split"
   ]
  },
  {
   "cell_type": "code",
   "execution_count": 405,
   "metadata": {},
   "outputs": [],
   "source": [
    "nlp = spacy.load('nl_core_news_lg')\n",
    "stops_words = STOP_WORDS"
   ]
  },
  {
   "cell_type": "markdown",
   "metadata": {},
   "source": [
    "## Exploring Data"
   ]
  },
  {
   "cell_type": "code",
   "execution_count": 406,
   "metadata": {},
   "outputs": [],
   "source": [
    "year = ['1986', '1994', '1998']"
   ]
  },
  {
   "cell_type": "markdown",
   "metadata": {},
   "source": [
    "#### Extracting All Themes"
   ]
  },
  {
   "cell_type": "code",
   "execution_count": 466,
   "metadata": {},
   "outputs": [],
   "source": [
    "# taxonomy_xml = ET.parse(f'data/Political_election_manifestos/taxonomy.{year[1]}.xml')\n",
    "taxonomy_xml = xml.dom.minidom.parse(f'data/Political_election_manifestos/taxonomy.{year[1]}.xml')"
   ]
  },
  {
   "cell_type": "markdown",
   "metadata": {},
   "source": [
    "Simple theme taxonomy exrtaction method: take all themes and ignore the relationship between themes."
   ]
  },
  {
   "cell_type": "code",
   "execution_count": 470,
   "metadata": {},
   "outputs": [],
   "source": [
    "# SIMPLE THEME COLLECTION\n",
    "taxonomy = set()\n",
    "for theme in taxonomy_xml.getElementsByTagName('theme'):\n",
    "    taxonomy.add(theme.getAttribute('id'))"
   ]
  },
  {
   "cell_type": "markdown",
   "metadata": {},
   "source": [
    "More complex list that captures the relation between themes (not complete yet)."
   ]
  },
  {
   "cell_type": "code",
   "execution_count": null,
   "metadata": {},
   "outputs": [],
   "source": [
    "taxonomy = {}\n",
    "for theme in taxonomy_xml.getroot():\n",
    "    tax = {}\n",
    "    # print(theme)\n",
    "    for sub in theme:\n",
    "        for subsub in sub:\n",
    "            if sub.tag == 'related_themes':\n",
    "                print('RELATED', subsub.get('id'))\n",
    "            else:\n",
    "                print('REFERRES', subsub.text)\n",
    "            # print(subsub.text)"
   ]
  },
  {
   "cell_type": "markdown",
   "metadata": {},
   "source": [
    "#### Extracting Text Data"
   ]
  },
  {
   "cell_type": "code",
   "execution_count": 409,
   "metadata": {},
   "outputs": [],
   "source": [
    "document = xml.dom.minidom.parse(f'data/Political_election_manifestos/VP_{year[0]}.party-topicnr-content.xml')"
   ]
  },
  {
   "cell_type": "code",
   "execution_count": 410,
   "metadata": {},
   "outputs": [],
   "source": [
    "def apply_text_preprocessing(text: str):\n",
    "    # Strip + Lower case\n",
    "    text = text.strip().lower()\n",
    "    # Remove digits\n",
    "    text = unidecode.unidecode(text)\n",
    "    # Remove Punctuation\n",
    "    text = re.sub('[%s]' % re.escape(string.punctuation), '', text)\n",
    "    #  Remove stop words and Lemmatisation\n",
    "    text = ' '.join([token.lemma_ for token in nlp(text) if token.is_stop == False and token.text != ' '])\n",
    "\n",
    "    return text"
   ]
  },
  {
   "cell_type": "code",
   "execution_count": 411,
   "metadata": {},
   "outputs": [],
   "source": [
    "chapters = {}\n",
    "for chapter in document.firstChild.getElementsByTagName('chapter'):\n",
    "    party = chapter.getAttribute('party')\n",
    "    # print(chapter.getAttribute('party'))\n",
    "    par = {}\n",
    "    for paragraph in chapter.getElementsByTagName('p'):\n",
    "        id = paragraph.getAttribute('id')\n",
    "        # print(paragraph.getAttribute('id'))\n",
    "        \n",
    "        paragraph_value = paragraph.childNodes[2].nodeValue\n",
    "        # paragraph_value = apply_text_preprocessing(paragraph_value)\n",
    "        # print(paragraph_value)\n",
    "\n",
    "        paragraph_themes = [theme.getAttribute('id') for theme in paragraph.getElementsByTagName('theme')]\n",
    "        # print(paragraph_themes)\n",
    "\n",
    "        par[id] = {'p': paragraph_value, 'themes': paragraph_themes}\n",
    "    chapters[party] = par"
   ]
  },
  {
   "cell_type": "code",
   "execution_count": 412,
   "metadata": {},
   "outputs": [],
   "source": [
    "X, y = [], []\n",
    "for chapter in chapters.keys():\n",
    "    for text in chapters[chapter].keys():\n",
    "        # if chapters[chapter][text]['p'] != '':\n",
    "        X.append(chapters[chapter][text]['p']) \n",
    "        y.append(chapters[chapter][text]['themes'])"
   ]
  },
  {
   "cell_type": "code",
   "execution_count": 413,
   "metadata": {},
   "outputs": [
    {
     "name": "stdout",
     "output_type": "stream",
     "text": [
      "\n",
      " Samen werken voor morgen Het CDA heeft zich in de voorbije regeerperiode metterdaad ingezet om de klemgereden samenleving in het goede spoor te brengen . Dat was heel wat moeilijker dan in ons land werd voorzien . Daar kwamen (en komen) ook soms diep-ingrijpende maatregelen aan te pas. Maar het is mede aan dat gevoerde beleid te danken dat het deze vier jaar lukte om nieuw uitzicht te scheppen: de stijging van de werkloosheid kwam tot staan, de overheidsuitgaven worden beter beheerst. Bemoedigend is vooral dat in de maatschappij de bereidheid toenam om eigen verantwoordelijkheid te dragen. Wij staan voor dat beleid. Daarmee werd de basis gelegd voor een gemeenschappelijke krachtsinspanning van overheid en samenleving. Zo'n basis is nodig willen we de problemen-van-morgen de baas worden. Vol overtuiging roept dit verkiezingsprogram dan ook op te blijven ijveren voor een maatschappij waarin we met elkaar, vÃ³Ã³r elkaar opkomen. Een maatschappij die, overeenkomstig de door het CDA voor zijn beleid gekozen uitgangspunten, de volgende kenmerken heeft : een streven naar gerechtigheid, welke burgers en hun samenlevingsverbanden beschermt. Zowel ten opzichte van elkaar als ten opzichte van de overheid. Daardoor wordt voorkomen dat deelbelangen gaan overheersen ; solidariteit, welke groeps- en klassegrenzen overschrijdt, de zwakken in de samenleving beschermt en op internationaal gebied ontwikkelingssamenwerking bevordert; spreiding van verantwoordelijkheid, met als doel mensen en organisaties een eigen taak te laten en zo hun recht op zeggenschap tot gelding te brengen; het besef dat mensen de hun toevertrouwde schepping als rentmeester hebben te beheren en misbruik ten eigen bate dus niemand is toegestaan. Langs deze lijnen kan een samenleving groeien waarin het rechtvaardiger toegaat, die meer zekerheid biedt en ook bij tegenwind overeind blijft. De overheid zet zich daar in als 'Schild voor de zwakke'. Met deze uitgangspunten wil het CDA, overeenkomstig de grondslag, bij zijn politiek handelen antwoorden op de oproep van het Evangel ie . Gods gebod eist immers dat mensen elkaars naasten zullen zijn. Zij hebben er dan ook voor te zorgen dat de wereld leefbaar blijft voor alle mensen . Daarom weigert het CDA zijn politiek op het menselijk egoÃ¯sme te baseren . Evenmin beschouwen wij de maatschappij als een samenleving, waarvan de Staat alle touwtjes in handen houdt. De overheid is niet (en kÃ n ook niet zijn) een almachtig orakel dat de oplossing aanreikt voor elk probleem waar iemand zelf geen gat meer ziet. De gevolgen van een overheidsmaatregel vindt de samenleving trouwens altijd weer op eigen bordje terug. Juist door het prijskaartje te veronachtzamen dat aan elke algemeen-begeerde overheidsvoorziening hangt, is ons land in zo'n diepe crisis geraakt. Het CDA wil meer ruimte scheppen voor eigen verantwoordelijkheid van personen en groepen. Sinds de Tweede Wereldoorlog is met steun van christen-democraten een 'Verzorgingsstaat' opgebouwd, waardoor veel goede dingen tot stand kwamen. Ook dat laatste mag, bij alle kritiek, niet worden vergeten . Maar die verzorgingsstaat is geleidelijk uit zijn krachten gegroeid . Te makkelijk werd gedacht en gedaan of ongeveer alles wel te beteugelen en te betalen viel, zodra het maar tot staatszorg werd verklaard. Zo kreeg de staat ook veel problemen toegeschoven, welke eigenlijk als voorwerp van maatschappelijke zorg behoorden te zijn herkend. In plaats van een verzorgingsstaat heeft het CDA bij zijn beleid een verzorgingsmaatschappij voor ogen. Mensen moeten de kans hebben vanuit eigen visie en inspiratie de ontwikkeling van de samenwerking kleur en vaart te geven. Zodoende zal de maatschappij ook duidelijker met de consequenties van gevraagde voorzieningen worden geconfronteerd. Wetgeving en overheidsbeleid moeten op het versterken van die verzorgingsmaatschappij zijn gericht, maar om tot leven te komen heeft zij meer dan wetten en voorschriften nodig. De mensen zelf zullen er zich voor moeten inzetten. Dit verkiezingsprogram bedoelt een AppÃ¨l te zijn om aan de groei van zo'n verzorgingsmaatschappij creatief mee te werken. Het CDA is ervan overtuigd dat het in de samenleving weerklank zal vinden. Temeer omdat een beroep op eigen verantwoordelijkheidsbesef niet alleen (of in de eerste plaats) van de politiek hoeft te komen. Het CDA vraagt alleen dit besef ook politiek te vertalen .\n",
      "    \n"
     ]
    }
   ],
   "source": [
    "print(X[0])"
   ]
  },
  {
   "cell_type": "code",
   "execution_count": 414,
   "metadata": {},
   "outputs": [
    {
     "name": "stdout",
     "output_type": "stream",
     "text": [
      "797\n",
      "797\n"
     ]
    }
   ],
   "source": [
    "print(len(X))\n",
    "print(len(y))"
   ]
  },
  {
   "cell_type": "code",
   "execution_count": 415,
   "metadata": {},
   "outputs": [
    {
     "name": "stdout",
     "output_type": "stream",
     "text": [
      "<class 'list'>\n",
      "<class 'list'>\n"
     ]
    }
   ],
   "source": [
    "print(type(X))\n",
    "print(type(y))"
   ]
  },
  {
   "cell_type": "markdown",
   "metadata": {},
   "source": [
    "### TF_IDF"
   ]
  },
  {
   "cell_type": "code",
   "execution_count": 416,
   "metadata": {},
   "outputs": [],
   "source": [
    "# play around with n_gram and max_features\n",
    "vectorizer = TfidfVectorizer(strip_accents='unicode', analyzer='word', ngram_range=(1,3), norm='l2', max_features = 10000)\n",
    "\n",
    "X_tfidf = vectorizer.fit_transform(X)"
   ]
  },
  {
   "cell_type": "code",
   "execution_count": null,
   "metadata": {},
   "outputs": [],
   "source": []
  },
  {
   "cell_type": "markdown",
   "metadata": {},
   "source": [
    "### Train-Test Split"
   ]
  },
  {
   "cell_type": "code",
   "execution_count": 417,
   "metadata": {},
   "outputs": [],
   "source": [
    "X_train, X_test, y_train, y_test = train_test_split(X_tfidf, y, test_size=0.33, random_state=42)"
   ]
  },
  {
   "cell_type": "code",
   "execution_count": 418,
   "metadata": {},
   "outputs": [
    {
     "name": "stdout",
     "output_type": "stream",
     "text": [
      "<class 'scipy.sparse.csr.csr_matrix'>\n",
      "<class 'list'>\n"
     ]
    }
   ],
   "source": [
    "print(type(X_train))\n",
    "print(type(y_train))"
   ]
  },
  {
   "cell_type": "code",
   "execution_count": null,
   "metadata": {},
   "outputs": [],
   "source": []
  },
  {
   "cell_type": "markdown",
   "metadata": {},
   "source": [
    "# Models"
   ]
  },
  {
   "cell_type": "code",
   "execution_count": null,
   "metadata": {},
   "outputs": [],
   "source": []
  }
 ],
 "metadata": {
  "interpreter": {
   "hash": "aee8b7b246df8f9039afb4144a1f6fd8d2ca17a180786b69acc140d282b71a49"
  },
  "kernelspec": {
   "display_name": "Python 3.9.4 64-bit",
   "language": "python",
   "name": "python3"
  },
  "language_info": {
   "codemirror_mode": {
    "name": "ipython",
    "version": 3
   },
   "file_extension": ".py",
   "mimetype": "text/x-python",
   "name": "python",
   "nbconvert_exporter": "python",
   "pygments_lexer": "ipython3",
   "version": "3.10.0"
  },
  "orig_nbformat": 4
 },
 "nbformat": 4,
 "nbformat_minor": 2
}
